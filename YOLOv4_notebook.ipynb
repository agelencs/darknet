{
  "nbformat": 4,
  "nbformat_minor": 0,
  "metadata": {
    "colab": {
      "name": "Copy of YOLOv4_notebook.ipynb",
      "provenance": [],
      "collapsed_sections": [],
      "toc_visible": true,
      "include_colab_link": true
    },
    "kernelspec": {
      "name": "python3",
      "display_name": "Python 3"
    },
    "accelerator": "GPU"
  },
  "cells": [
    {
      "cell_type": "markdown",
      "metadata": {
        "id": "view-in-github",
        "colab_type": "text"
      },
      "source": [
        "<a href=\"https://colab.research.google.com/github/agelencs/darknet/blob/master/YOLOv4_notebook.ipynb\" target=\"_parent\"><img src=\"https://colab.research.google.com/assets/colab-badge.svg\" alt=\"Open In Colab\"/></a>"
      ]
    },
    {
      "cell_type": "code",
      "metadata": {
        "id": "PL4r2AypQ0-g"
      },
      "source": [
        ""
      ],
      "execution_count": null,
      "outputs": []
    },
    {
      "cell_type": "markdown",
      "metadata": {
        "id": "gE3azXoR_pWi"
      },
      "source": [
        "# Step 1: Cloning and Building Darknet"
      ]
    },
    {
      "cell_type": "code",
      "metadata": {
        "id": "68eMertgIxaB"
      },
      "source": [
        "# clone darknet repo\n",
        "!git clone https://github.com/agelencs/darknet"
      ],
      "execution_count": null,
      "outputs": []
    },
    {
      "cell_type": "code",
      "metadata": {
        "id": "xym8_m8CIyXK"
      },
      "source": [
        "# change makefile to have GPU and OPENCV enabled\n",
        "%cd darknet\n",
        "!sed -i 's/OPENCV=0/OPENCV=1/' Makefile\n",
        "!sed -i 's/GPU=0/GPU=1/' Makefile\n",
        "!sed -i 's/CUDNN=0/CUDNN=1/' Makefile\n",
        "!sed -i 's/CUDNN_HALF=0/CUDNN_HALF=1/' Makefile"
      ],
      "execution_count": null,
      "outputs": []
    },
    {
      "cell_type": "code",
      "metadata": {
        "id": "js7TO2uTDlQv"
      },
      "source": [
        "ls"
      ],
      "execution_count": null,
      "outputs": []
    },
    {
      "cell_type": "code",
      "metadata": {
        "id": "9nj19CnFBrdy"
      },
      "source": [
        "cd /content/darknet/\n"
      ],
      "execution_count": null,
      "outputs": []
    },
    {
      "cell_type": "code",
      "metadata": {
        "id": "5uloUwmUKF05"
      },
      "source": [
        "# verify CUDA\n",
        "#!/usr/local/cuda/bin/nvcc --version"
      ],
      "execution_count": null,
      "outputs": []
    },
    {
      "cell_type": "code",
      "metadata": {
        "id": "q2Jjv0yRKLPe"
      },
      "source": [
        "# make darknet \n",
        "!make"
      ],
      "execution_count": null,
      "outputs": []
    },
    {
      "cell_type": "markdown",
      "metadata": {
        "id": "F6W6MlHRVEfA"
      },
      "source": [
        "# Step 2: Setup Google Drive Files to Use\n"
      ]
    },
    {
      "cell_type": "code",
      "metadata": {
        "id": "uMLpWp-DZSZY",
        "colab": {
          "base_uri": "https://localhost:8080/"
        },
        "outputId": "4156320c-fd23-499e-dfbe-052210d8e3e1"
      },
      "source": [
        "%cd ..\n",
        "from google.colab import drive\n",
        "drive.mount('/content/gdrive')"
      ],
      "execution_count": null,
      "outputs": [
        {
          "output_type": "stream",
          "text": [
            "/content\n",
            "Mounted at /content/gdrive\n"
          ],
          "name": "stdout"
        }
      ]
    },
    {
      "cell_type": "code",
      "metadata": {
        "id": "JafIRIU0Z6UQ",
        "colab": {
          "base_uri": "https://localhost:8080/"
        },
        "outputId": "3f5e0e47-9436-4bcb-b285-876e503b2df0"
      },
      "source": [
        "# cd back into the darknet folder to run detections\n",
        "%cd darknet"
      ],
      "execution_count": null,
      "outputs": [
        {
          "output_type": "stream",
          "text": [
            "/content/darknet\n"
          ],
          "name": "stdout"
        }
      ]
    },
    {
      "cell_type": "code",
      "metadata": {
        "id": "32MX4xIkUyKM"
      },
      "source": [
        "# This stops 'Run all' at this cell by causing an error\n",
        "assert False"
      ],
      "execution_count": null,
      "outputs": []
    },
    {
      "cell_type": "markdown",
      "metadata": {
        "id": "ikgv38AdKldo"
      },
      "source": [
        "# Step 3: Download pre-trained YOLOv4 weights\n",
        "YOLOv4 has been trained already on the coco dataset which has 80 classes that it can predict. \n",
        "\n",
        "[COCO CLASSES](http://cocodataset.org/#explore)\n"
      ]
    },
    {
      "cell_type": "code",
      "metadata": {
        "id": "vVtgyY_ELoSf"
      },
      "source": [
        "!wget https://github.com/AlexeyAB/darknet/releases/download/darknet_yolo_v3_optimal/yolov4.weights"
      ],
      "execution_count": null,
      "outputs": []
    },
    {
      "cell_type": "code",
      "metadata": {
        "id": "ajizm6QXAp0t"
      },
      "source": [
        "!cp /content/gdrive/MyDrive/View/code/yolov4_training/backup/yolov4-obj_last.weights ./"
      ],
      "execution_count": null,
      "outputs": []
    },
    {
      "cell_type": "markdown",
      "metadata": {
        "id": "SrCelrOSq3I_"
      },
      "source": [
        "# Step 4: Run detection"
      ]
    },
    {
      "cell_type": "markdown",
      "metadata": {
        "id": "POozxsvFdXTu"
      },
      "source": [
        "# Step 5: Train Your Custom Object Detector!\n",
        "The time has finally come! You have made it to the moment of truth! You are now ready to train your custom YOLOv4 object detector on whatever crazy classes you have decided on. So run the following command. (-dont_show flag stops chart from popping up since Colab Notebook can't open images on the spot, -map flag overlays mean average precision on chart to see how accuracy of your model is, only add map flag if you have a validation dataset)\n",
        "```\n",
        "!./darknet detector train <path to obj.data> <path to custom config> yolov4.conv.137 -dont_show -map\n",
        "```\n",
        "**TIP:** This training could take several hours depending on how many iterations you chose in the .cfg file. You will want to let this run as you sleep or go to work for the day, etc. However, Colab Cloud Service kicks you off it's VMs if you are idle for too long (30-90 mins).\n",
        "\n",
        "To avoid this hold (CTRL + SHIFT + i) at the same time to open up the inspector view on your browser.\n",
        "\n",
        "Paste the following code into your console window and hit **Enter**\n",
        "```\n",
        "function ClickConnect(){\n",
        "console.log(\"Working\"); \n",
        "document\n",
        "  .querySelector('#top-toolbar > colab-connect-button')\n",
        "  .shadowRoot.querySelector('#connect')\n",
        "  .click() \n",
        "}\n",
        "setInterval(ClickConnect,60000)\n",
        "```\n",
        "Looks like this, it will click the screen every 10 minutes so that you don't get kicked off for being idle! HACKS!\n",
        "\n",
        "![image.png](data:image/png;base64,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)"
      ]
    },
    {
      "cell_type": "code",
      "metadata": {
        "id": "Lgf-ZUbqbb4K"
      },
      "source": [
        "!./darknet detector demo cfg/coco.data cfg/yolov4.cfg yolov4.weights -dont_show /content/gdrive/MyDrive/View/code/film_test.mp4 -i 0 -json_file_output /content/gdrive/MyDrive/View/code/film_test_results.json "
      ],
      "execution_count": null,
      "outputs": []
    },
    {
      "cell_type": "code",
      "metadata": {
        "id": "05qmYl_iC38x"
      },
      "source": [
        "!cp /content/gdrive/MyDrive/View/code/yolov4_training/obj.data ./cfg/\n",
        "!cp /content/gdrive/MyDrive/View/code/yolov4_training/yolov4-obj.cfg ./cfg/\n",
        "!cp /content/gdrive/MyDrive/View/code/yolov4_training/obj.names ./data/"
      ],
      "execution_count": null,
      "outputs": []
    },
    {
      "cell_type": "code",
      "metadata": {
        "id": "RHzEYeU3Cu-9"
      },
      "source": [
        "!./darknet detector demo cfg/obj.data cfg/yolov4-obj.cfg yolov4-obj_last.weights -dont_show /content/gdrive/MyDrive/View/code/film_test.mp4 -i 0 -json_file_output /content/gdrive/MyDrive/View/code/film_test_results_new.json  "
      ],
      "execution_count": null,
      "outputs": []
    },
    {
      "cell_type": "markdown",
      "metadata": {
        "id": "9mqYxrM5pCwQ"
      },
      "source": [
        "# Additional options\n",
        "\n",
        "**threshold:**\n",
        "\n",
        "-thresh 0.5\n",
        "\n",
        "**to create a video with predicted bounding boxes:**\n",
        "\n",
        "-out_filename results.avi"
      ]
    },
    {
      "cell_type": "markdown",
      "metadata": {
        "id": "iMA7EKt5LIMe"
      },
      "source": [
        "### POSTPROCESSING"
      ]
    },
    {
      "cell_type": "code",
      "metadata": {
        "id": "MG2LL41mLPLO"
      },
      "source": [
        "import json\n",
        "import pandas as pd\n",
        "import ast"
      ],
      "execution_count": null,
      "outputs": []
    },
    {
      "cell_type": "code",
      "metadata": {
        "id": "ZVkYYy0YLXOL"
      },
      "source": [
        "with open('/content/gdrive/MyDrive/View/code/film_test_results_new.json') as f:\n",
        "  data = json.load(f)"
      ],
      "execution_count": null,
      "outputs": []
    },
    {
      "cell_type": "code",
      "metadata": {
        "id": "vXZG3FhBXsYO"
      },
      "source": [
        "iter=[]\n",
        "for c in data:\n",
        "  for k in c['objects']:\n",
        "    cx=int(k['relative_coordinates']['center_x']*666)\n",
        "    w=int(k['relative_coordinates']['width']*666)\n",
        "    cy=int(k['relative_coordinates']['center_y']*360)\n",
        "    h=int(k['relative_coordinates']['height']*360)\n",
        "    # print(cx, cy, w, h)\n",
        "    left = int(cx-w/2)\n",
        "    right = int(cx+w/2)\n",
        "    top = int(cy-h/2)\n",
        "    bottom = int(cy+h/2)\n",
        "    # print(left, top, right, bottom)\n",
        "    iter.append([c['frame_id'],left, top, right, bottom,k['name'],k['confidence']])\n",
        "df = pd.DataFrame(iter, columns=['frame_number','left','top','right','bottom','class','confidence'])"
      ],
      "execution_count": null,
      "outputs": []
    },
    {
      "cell_type": "code",
      "metadata": {
        "colab": {
          "base_uri": "https://localhost:8080/"
        },
        "id": "A2GPfuMVZ-uH",
        "outputId": "33da26a7-282f-41d7-cbdf-1258ac7af3a5"
      },
      "source": [
        "\n",
        "cx=int(k['relative_coordinates']['center_x']*666)\n",
        "w=int(k['relative_coordinates']['width']*666)\n",
        "cy=int(k['relative_coordinates']['center_y']*360)\n",
        "h=int(k['relative_coordinates']['height']*360)\n",
        "print(cx, cy, w, h)\n",
        "left = int(cx-w/2)\n",
        "right = int(cx+w/2)\n",
        "top = int(cy-h/2)\n",
        "bottom = int(cy+h/2)\n",
        "print(left, top, right, bottom)"
      ],
      "execution_count": null,
      "outputs": [
        {
          "output_type": "stream",
          "text": [
            "186 10 89 22\n",
            "141 -1 230 21\n"
          ],
          "name": "stdout"
        }
      ]
    },
    {
      "cell_type": "code",
      "metadata": {
        "id": "ZLDkWnbLfO8Q"
      },
      "source": [
        "filtered = df.loc[df['confidence'] >= 0.5]"
      ],
      "execution_count": null,
      "outputs": []
    },
    {
      "cell_type": "code",
      "metadata": {
        "colab": {
          "base_uri": "https://localhost:8080/",
          "height": 173
        },
        "id": "SD2tYSYnuUFJ",
        "outputId": "104a3a9d-d726-4f66-e96d-d83b0032f35e"
      },
      "source": [
        "df.groupby('class').nunique()"
      ],
      "execution_count": null,
      "outputs": [
        {
          "output_type": "execute_result",
          "data": {
            "text/html": [
              "<div>\n",
              "<style scoped>\n",
              "    .dataframe tbody tr th:only-of-type {\n",
              "        vertical-align: middle;\n",
              "    }\n",
              "\n",
              "    .dataframe tbody tr th {\n",
              "        vertical-align: top;\n",
              "    }\n",
              "\n",
              "    .dataframe thead th {\n",
              "        text-align: right;\n",
              "    }\n",
              "</style>\n",
              "<table border=\"1\" class=\"dataframe\">\n",
              "  <thead>\n",
              "    <tr style=\"text-align: right;\">\n",
              "      <th></th>\n",
              "      <th>frame_number</th>\n",
              "      <th>left</th>\n",
              "      <th>top</th>\n",
              "      <th>right</th>\n",
              "      <th>bottom</th>\n",
              "      <th>confidence</th>\n",
              "    </tr>\n",
              "    <tr>\n",
              "      <th>class</th>\n",
              "      <th></th>\n",
              "      <th></th>\n",
              "      <th></th>\n",
              "      <th></th>\n",
              "      <th></th>\n",
              "      <th></th>\n",
              "    </tr>\n",
              "  </thead>\n",
              "  <tbody>\n",
              "    <tr>\n",
              "      <th>Dog</th>\n",
              "      <td>2733</td>\n",
              "      <td>492</td>\n",
              "      <td>325</td>\n",
              "      <td>579</td>\n",
              "      <td>276</td>\n",
              "      <td>2949</td>\n",
              "    </tr>\n",
              "    <tr>\n",
              "      <th>Gun</th>\n",
              "      <td>4337</td>\n",
              "      <td>647</td>\n",
              "      <td>349</td>\n",
              "      <td>624</td>\n",
              "      <td>334</td>\n",
              "      <td>4448</td>\n",
              "    </tr>\n",
              "    <tr>\n",
              "      <th>Spider</th>\n",
              "      <td>435</td>\n",
              "      <td>263</td>\n",
              "      <td>172</td>\n",
              "      <td>234</td>\n",
              "      <td>199</td>\n",
              "      <td>435</td>\n",
              "    </tr>\n",
              "  </tbody>\n",
              "</table>\n",
              "</div>"
            ],
            "text/plain": [
              "        frame_number  left  top  right  bottom  confidence\n",
              "class                                                     \n",
              "Dog             2733   492  325    579     276        2949\n",
              "Gun             4337   647  349    624     334        4448\n",
              "Spider           435   263  172    234     199         435"
            ]
          },
          "metadata": {
            "tags": []
          },
          "execution_count": 31
        }
      ]
    },
    {
      "cell_type": "code",
      "metadata": {
        "colab": {
          "base_uri": "https://localhost:8080/",
          "height": 173
        },
        "id": "Su6bZawQubyl",
        "outputId": "fe8ff97e-8ad0-4347-8608-72447dc9c40c"
      },
      "source": [
        "filtered.groupby('class').nunique()"
      ],
      "execution_count": null,
      "outputs": [
        {
          "output_type": "execute_result",
          "data": {
            "text/html": [
              "<div>\n",
              "<style scoped>\n",
              "    .dataframe tbody tr th:only-of-type {\n",
              "        vertical-align: middle;\n",
              "    }\n",
              "\n",
              "    .dataframe tbody tr th {\n",
              "        vertical-align: top;\n",
              "    }\n",
              "\n",
              "    .dataframe thead th {\n",
              "        text-align: right;\n",
              "    }\n",
              "</style>\n",
              "<table border=\"1\" class=\"dataframe\">\n",
              "  <thead>\n",
              "    <tr style=\"text-align: right;\">\n",
              "      <th></th>\n",
              "      <th>frame_number</th>\n",
              "      <th>left</th>\n",
              "      <th>top</th>\n",
              "      <th>right</th>\n",
              "      <th>bottom</th>\n",
              "      <th>confidence</th>\n",
              "    </tr>\n",
              "    <tr>\n",
              "      <th>class</th>\n",
              "      <th></th>\n",
              "      <th></th>\n",
              "      <th></th>\n",
              "      <th></th>\n",
              "      <th></th>\n",
              "      <th></th>\n",
              "    </tr>\n",
              "  </thead>\n",
              "  <tbody>\n",
              "    <tr>\n",
              "      <th>Dog</th>\n",
              "      <td>1436</td>\n",
              "      <td>333</td>\n",
              "      <td>226</td>\n",
              "      <td>402</td>\n",
              "      <td>168</td>\n",
              "      <td>1552</td>\n",
              "    </tr>\n",
              "    <tr>\n",
              "      <th>Gun</th>\n",
              "      <td>1766</td>\n",
              "      <td>517</td>\n",
              "      <td>301</td>\n",
              "      <td>518</td>\n",
              "      <td>293</td>\n",
              "      <td>1771</td>\n",
              "    </tr>\n",
              "    <tr>\n",
              "      <th>Spider</th>\n",
              "      <td>259</td>\n",
              "      <td>177</td>\n",
              "      <td>125</td>\n",
              "      <td>166</td>\n",
              "      <td>145</td>\n",
              "      <td>259</td>\n",
              "    </tr>\n",
              "  </tbody>\n",
              "</table>\n",
              "</div>"
            ],
            "text/plain": [
              "        frame_number  left  top  right  bottom  confidence\n",
              "class                                                     \n",
              "Dog             1436   333  226    402     168        1552\n",
              "Gun             1766   517  301    518     293        1771\n",
              "Spider           259   177  125    166     145         259"
            ]
          },
          "metadata": {
            "tags": []
          },
          "execution_count": 33
        }
      ]
    },
    {
      "cell_type": "code",
      "metadata": {
        "colab": {
          "base_uri": "https://localhost:8080/",
          "height": 419
        },
        "id": "JYZao3hCzmsg",
        "outputId": "0f90aa8b-f28c-4880-dc4f-7d82f1d04438"
      },
      "source": [
        "df"
      ],
      "execution_count": null,
      "outputs": [
        {
          "output_type": "execute_result",
          "data": {
            "text/html": [
              "<div>\n",
              "<style scoped>\n",
              "    .dataframe tbody tr th:only-of-type {\n",
              "        vertical-align: middle;\n",
              "    }\n",
              "\n",
              "    .dataframe tbody tr th {\n",
              "        vertical-align: top;\n",
              "    }\n",
              "\n",
              "    .dataframe thead th {\n",
              "        text-align: right;\n",
              "    }\n",
              "</style>\n",
              "<table border=\"1\" class=\"dataframe\">\n",
              "  <thead>\n",
              "    <tr style=\"text-align: right;\">\n",
              "      <th></th>\n",
              "      <th>frame_number</th>\n",
              "      <th>left</th>\n",
              "      <th>top</th>\n",
              "      <th>right</th>\n",
              "      <th>bottom</th>\n",
              "      <th>class</th>\n",
              "      <th>confidence</th>\n",
              "    </tr>\n",
              "  </thead>\n",
              "  <tbody>\n",
              "    <tr>\n",
              "      <th>0</th>\n",
              "      <td>39</td>\n",
              "      <td>-23</td>\n",
              "      <td>4</td>\n",
              "      <td>691</td>\n",
              "      <td>352</td>\n",
              "      <td>Gun</td>\n",
              "      <td>0.482086</td>\n",
              "    </tr>\n",
              "    <tr>\n",
              "      <th>1</th>\n",
              "      <td>65</td>\n",
              "      <td>420</td>\n",
              "      <td>237</td>\n",
              "      <td>442</td>\n",
              "      <td>258</td>\n",
              "      <td>Spider</td>\n",
              "      <td>0.571056</td>\n",
              "    </tr>\n",
              "    <tr>\n",
              "      <th>2</th>\n",
              "      <td>66</td>\n",
              "      <td>419</td>\n",
              "      <td>242</td>\n",
              "      <td>437</td>\n",
              "      <td>260</td>\n",
              "      <td>Spider</td>\n",
              "      <td>0.754398</td>\n",
              "    </tr>\n",
              "    <tr>\n",
              "      <th>3</th>\n",
              "      <td>67</td>\n",
              "      <td>411</td>\n",
              "      <td>252</td>\n",
              "      <td>435</td>\n",
              "      <td>272</td>\n",
              "      <td>Spider</td>\n",
              "      <td>0.819337</td>\n",
              "    </tr>\n",
              "    <tr>\n",
              "      <th>4</th>\n",
              "      <td>68</td>\n",
              "      <td>407</td>\n",
              "      <td>253</td>\n",
              "      <td>435</td>\n",
              "      <td>282</td>\n",
              "      <td>Spider</td>\n",
              "      <td>0.597534</td>\n",
              "    </tr>\n",
              "    <tr>\n",
              "      <th>...</th>\n",
              "      <td>...</td>\n",
              "      <td>...</td>\n",
              "      <td>...</td>\n",
              "      <td>...</td>\n",
              "      <td>...</td>\n",
              "      <td>...</td>\n",
              "      <td>...</td>\n",
              "    </tr>\n",
              "    <tr>\n",
              "      <th>13701</th>\n",
              "      <td>183280</td>\n",
              "      <td>300</td>\n",
              "      <td>88</td>\n",
              "      <td>324</td>\n",
              "      <td>110</td>\n",
              "      <td>Spider</td>\n",
              "      <td>0.251574</td>\n",
              "    </tr>\n",
              "    <tr>\n",
              "      <th>13702</th>\n",
              "      <td>183281</td>\n",
              "      <td>298</td>\n",
              "      <td>85</td>\n",
              "      <td>323</td>\n",
              "      <td>109</td>\n",
              "      <td>Spider</td>\n",
              "      <td>0.551977</td>\n",
              "    </tr>\n",
              "    <tr>\n",
              "      <th>13703</th>\n",
              "      <td>183282</td>\n",
              "      <td>295</td>\n",
              "      <td>82</td>\n",
              "      <td>327</td>\n",
              "      <td>110</td>\n",
              "      <td>Spider</td>\n",
              "      <td>0.385067</td>\n",
              "    </tr>\n",
              "    <tr>\n",
              "      <th>13704</th>\n",
              "      <td>183283</td>\n",
              "      <td>295</td>\n",
              "      <td>78</td>\n",
              "      <td>327</td>\n",
              "      <td>107</td>\n",
              "      <td>Spider</td>\n",
              "      <td>0.332619</td>\n",
              "    </tr>\n",
              "    <tr>\n",
              "      <th>13705</th>\n",
              "      <td>183293</td>\n",
              "      <td>294</td>\n",
              "      <td>62</td>\n",
              "      <td>327</td>\n",
              "      <td>91</td>\n",
              "      <td>Spider</td>\n",
              "      <td>0.352066</td>\n",
              "    </tr>\n",
              "  </tbody>\n",
              "</table>\n",
              "<p>13706 rows × 7 columns</p>\n",
              "</div>"
            ],
            "text/plain": [
              "       frame_number  left  top  right  bottom   class  confidence\n",
              "0                39   -23    4    691     352     Gun    0.482086\n",
              "1                65   420  237    442     258  Spider    0.571056\n",
              "2                66   419  242    437     260  Spider    0.754398\n",
              "3                67   411  252    435     272  Spider    0.819337\n",
              "4                68   407  253    435     282  Spider    0.597534\n",
              "...             ...   ...  ...    ...     ...     ...         ...\n",
              "13701        183280   300   88    324     110  Spider    0.251574\n",
              "13702        183281   298   85    323     109  Spider    0.551977\n",
              "13703        183282   295   82    327     110  Spider    0.385067\n",
              "13704        183283   295   78    327     107  Spider    0.332619\n",
              "13705        183293   294   62    327      91  Spider    0.352066\n",
              "\n",
              "[13706 rows x 7 columns]"
            ]
          },
          "metadata": {
            "tags": []
          },
          "execution_count": 24
        }
      ]
    },
    {
      "cell_type": "code",
      "metadata": {
        "id": "xAHdxpzb1xmM"
      },
      "source": [
        "df.to_csv ('/content/gdrive/MyDrive/View/code/film_test_results_new_json.csv', index = True, header=True)"
      ],
      "execution_count": null,
      "outputs": []
    },
    {
      "cell_type": "code",
      "metadata": {
        "id": "Ddej45mW2NMS",
        "colab": {
          "base_uri": "https://localhost:8080/"
        },
        "outputId": "5cfc96ac-0c80-4bc5-a752-d3f349a5a10d"
      },
      "source": [
        "pip install pysubs2"
      ],
      "execution_count": null,
      "outputs": [
        {
          "output_type": "stream",
          "text": [
            "Collecting pysubs2\n",
            "  Downloading https://files.pythonhosted.org/packages/89/1b/128901eaa32629a40378014210e783ce5e927e245c10fbc54f05fffc963d/pysubs2-0.2.4-py3-none-any.whl\n",
            "Installing collected packages: pysubs2\n",
            "Successfully installed pysubs2-0.2.4\n"
          ],
          "name": "stdout"
        }
      ]
    },
    {
      "cell_type": "code",
      "metadata": {
        "colab": {
          "base_uri": "https://localhost:8080/"
        },
        "id": "2wg9tLCsSp4c",
        "outputId": "07572048-602a-45a0-d719-35de2cf4b7f7"
      },
      "source": [
        "pip install profanity"
      ],
      "execution_count": null,
      "outputs": [
        {
          "output_type": "stream",
          "text": [
            "Collecting profanity\n",
            "  Downloading https://files.pythonhosted.org/packages/f6/b4/07d53456462e26eee50abcae787c9380c01731ccc0b6c96233770e546989/profanity-1.1.tar.gz\n",
            "Building wheels for collected packages: profanity\n",
            "  Building wheel for profanity (setup.py) ... \u001b[?25l\u001b[?25hdone\n",
            "  Created wheel for profanity: filename=profanity-1.1-cp36-none-any.whl size=4256 sha256=2001a0e99610d54ab68b7c82a0928e1749cce9d3df5fede5a4140a969966365f\n",
            "  Stored in directory: /root/.cache/pip/wheels/82/8c/e3/fe43eba7ea39c16359f223af14f914999de8803a6710a9d26b\n",
            "Successfully built profanity\n",
            "Installing collected packages: profanity\n",
            "Successfully installed profanity-1.1\n"
          ],
          "name": "stdout"
        }
      ]
    },
    {
      "cell_type": "code",
      "metadata": {
        "colab": {
          "base_uri": "https://localhost:8080/"
        },
        "id": "lD_VSQV7Hxxo",
        "outputId": "91fcd1db-89f1-439d-dff9-ed160ae5ca9f"
      },
      "source": [
        "pip install better_profanity"
      ],
      "execution_count": null,
      "outputs": [
        {
          "output_type": "stream",
          "text": [
            "Collecting better_profanity\n",
            "\u001b[?25l  Downloading https://files.pythonhosted.org/packages/f3/dd/0b074d89e903cc771721cde2c4bf3d8c9d114b5bd791af5c62bcf5fb9459/better_profanity-0.7.0-py3-none-any.whl (46kB)\n",
            "\r\u001b[K     |███████                         | 10kB 16.9MB/s eta 0:00:01\r\u001b[K     |██████████████▏                 | 20kB 23.4MB/s eta 0:00:01\r\u001b[K     |█████████████████████▎          | 30kB 28.2MB/s eta 0:00:01\r\u001b[K     |████████████████████████████▍   | 40kB 31.1MB/s eta 0:00:01\r\u001b[K     |████████████████████████████████| 51kB 2.8MB/s \n",
            "\u001b[?25hInstalling collected packages: better-profanity\n",
            "Successfully installed better-profanity-0.7.0\n"
          ],
          "name": "stdout"
        }
      ]
    },
    {
      "cell_type": "code",
      "metadata": {
        "id": "zBeBC-HpQ7YC"
      },
      "source": [
        "import pysrt\n",
        "\n",
        "from better_profanity import profanity\n",
        "\n",
        "subtitles = pysubs2.load('term.srt', encoding='iso-8859-1')\n",
        "\n",
        "for line in subtitles:\n",
        "  text = line.text\n",
        "  text = text.replace('\\\\N', ' ') \n",
        "  if profanity.contains_profanity(text):\n",
        "    c_text = profanity.censor(text)\n",
        "    print(line.start,' ',line.end,' ',c_text,' ',(line.end-line.start)/1000)\n",
        "\n",
        "    \n"
      ],
      "execution_count": null,
      "outputs": []
    },
    {
      "cell_type": "code",
      "metadata": {
        "id": "j2f1yf72UlX0"
      },
      "source": [
        ""
      ],
      "execution_count": null,
      "outputs": []
    }
  ]
}